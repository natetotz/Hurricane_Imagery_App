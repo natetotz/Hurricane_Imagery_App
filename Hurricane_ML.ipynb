{
 "cells": [
  {
   "cell_type": "code",
   "execution_count": 1,
   "metadata": {},
   "outputs": [
    {
     "name": "stdout",
     "output_type": "stream",
     "text": [
      "Requirement already satisfied: awscli in /Users/nathantotz/opt/anaconda3/lib/python3.8/site-packages (1.20.9)\n",
      "Requirement already satisfied: docutils<0.16,>=0.10 in /Users/nathantotz/opt/anaconda3/lib/python3.8/site-packages (from awscli) (0.15.2)\n",
      "Requirement already satisfied: PyYAML<5.5,>=3.10 in /Users/nathantotz/opt/anaconda3/lib/python3.8/site-packages (from awscli) (5.3.1)\n",
      "Requirement already satisfied: botocore==1.21.9 in /Users/nathantotz/opt/anaconda3/lib/python3.8/site-packages (from awscli) (1.21.9)\n",
      "Requirement already satisfied: s3transfer<0.6.0,>=0.5.0 in /Users/nathantotz/opt/anaconda3/lib/python3.8/site-packages (from awscli) (0.5.0)\n",
      "Requirement already satisfied: colorama<0.4.4,>=0.2.5 in /Users/nathantotz/opt/anaconda3/lib/python3.8/site-packages (from awscli) (0.4.3)\n",
      "Requirement already satisfied: rsa<4.8,>=3.1.2 in /Users/nathantotz/opt/anaconda3/lib/python3.8/site-packages (from awscli) (4.7.2)\n",
      "Requirement already satisfied: jmespath<1.0.0,>=0.7.1 in /Users/nathantotz/opt/anaconda3/lib/python3.8/site-packages (from botocore==1.21.9->awscli) (0.10.0)\n",
      "Requirement already satisfied: python-dateutil<3.0.0,>=2.1 in /Users/nathantotz/opt/anaconda3/lib/python3.8/site-packages (from botocore==1.21.9->awscli) (2.8.1)\n",
      "Requirement already satisfied: urllib3<1.27,>=1.25.4 in /Users/nathantotz/opt/anaconda3/lib/python3.8/site-packages (from botocore==1.21.9->awscli) (1.25.11)\n",
      "Requirement already satisfied: pyasn1>=0.1.3 in /Users/nathantotz/opt/anaconda3/lib/python3.8/site-packages (from rsa<4.8,>=3.1.2->awscli) (0.4.8)\n",
      "Requirement already satisfied: six>=1.5 in /Users/nathantotz/opt/anaconda3/lib/python3.8/site-packages (from python-dateutil<3.0.0,>=2.1->botocore==1.21.9->awscli) (1.15.0)\n",
      "Requirement already satisfied: boto3 in /Users/nathantotz/opt/anaconda3/lib/python3.8/site-packages (1.18.9)\n",
      "Requirement already satisfied: jmespath<1.0.0,>=0.7.1 in /Users/nathantotz/opt/anaconda3/lib/python3.8/site-packages (from boto3) (0.10.0)\n",
      "Requirement already satisfied: botocore<1.22.0,>=1.21.9 in /Users/nathantotz/opt/anaconda3/lib/python3.8/site-packages (from boto3) (1.21.9)\n",
      "Requirement already satisfied: s3transfer<0.6.0,>=0.5.0 in /Users/nathantotz/opt/anaconda3/lib/python3.8/site-packages (from boto3) (0.5.0)\n",
      "Requirement already satisfied: python-dateutil<3.0.0,>=2.1 in /Users/nathantotz/opt/anaconda3/lib/python3.8/site-packages (from botocore<1.22.0,>=1.21.9->boto3) (2.8.1)\n",
      "Requirement already satisfied: urllib3<1.27,>=1.25.4 in /Users/nathantotz/opt/anaconda3/lib/python3.8/site-packages (from botocore<1.22.0,>=1.21.9->boto3) (1.25.11)\n",
      "Requirement already satisfied: six>=1.5 in /Users/nathantotz/opt/anaconda3/lib/python3.8/site-packages (from python-dateutil<3.0.0,>=2.1->botocore<1.22.0,>=1.21.9->boto3) (1.15.0)\n",
      "Requirement already satisfied: netCDF4 in /Users/nathantotz/opt/anaconda3/lib/python3.8/site-packages (1.5.7)\n",
      "Requirement already satisfied: numpy>=1.9 in /Users/nathantotz/opt/anaconda3/lib/python3.8/site-packages (from netCDF4) (1.19.2)\n",
      "Requirement already satisfied: cftime in /Users/nathantotz/opt/anaconda3/lib/python3.8/site-packages (from netCDF4) (1.5.0)\n",
      "Requirement already satisfied: tensorflow in /Users/nathantotz/opt/anaconda3/lib/python3.8/site-packages (2.5.0)\n",
      "Requirement already satisfied: numpy~=1.19.2 in /Users/nathantotz/opt/anaconda3/lib/python3.8/site-packages (from tensorflow) (1.19.2)\n",
      "Requirement already satisfied: astunparse~=1.6.3 in /Users/nathantotz/opt/anaconda3/lib/python3.8/site-packages (from tensorflow) (1.6.3)\n",
      "Requirement already satisfied: keras-preprocessing~=1.1.2 in /Users/nathantotz/opt/anaconda3/lib/python3.8/site-packages (from tensorflow) (1.1.2)\n",
      "Requirement already satisfied: google-pasta~=0.2 in /Users/nathantotz/opt/anaconda3/lib/python3.8/site-packages (from tensorflow) (0.2.0)\n",
      "Requirement already satisfied: absl-py~=0.10 in /Users/nathantotz/opt/anaconda3/lib/python3.8/site-packages (from tensorflow) (0.13.0)\n",
      "Requirement already satisfied: opt-einsum~=3.3.0 in /Users/nathantotz/opt/anaconda3/lib/python3.8/site-packages (from tensorflow) (3.3.0)\n",
      "Requirement already satisfied: h5py~=3.1.0 in /Users/nathantotz/opt/anaconda3/lib/python3.8/site-packages (from tensorflow) (3.1.0)\n",
      "Requirement already satisfied: keras-nightly~=2.5.0.dev in /Users/nathantotz/opt/anaconda3/lib/python3.8/site-packages (from tensorflow) (2.5.0.dev2021032900)\n",
      "Requirement already satisfied: termcolor~=1.1.0 in /Users/nathantotz/opt/anaconda3/lib/python3.8/site-packages (from tensorflow) (1.1.0)\n",
      "Requirement already satisfied: protobuf>=3.9.2 in /Users/nathantotz/opt/anaconda3/lib/python3.8/site-packages (from tensorflow) (3.17.3)\n",
      "Requirement already satisfied: wrapt~=1.12.1 in /Users/nathantotz/opt/anaconda3/lib/python3.8/site-packages (from tensorflow) (1.12.1)\n",
      "Requirement already satisfied: wheel~=0.35 in /Users/nathantotz/opt/anaconda3/lib/python3.8/site-packages (from tensorflow) (0.35.1)\n",
      "Requirement already satisfied: flatbuffers~=1.12.0 in /Users/nathantotz/opt/anaconda3/lib/python3.8/site-packages (from tensorflow) (1.12)\n",
      "Requirement already satisfied: six~=1.15.0 in /Users/nathantotz/opt/anaconda3/lib/python3.8/site-packages (from tensorflow) (1.15.0)\n",
      "Requirement already satisfied: typing-extensions~=3.7.4 in /Users/nathantotz/opt/anaconda3/lib/python3.8/site-packages (from tensorflow) (3.7.4.3)\n",
      "Requirement already satisfied: grpcio~=1.34.0 in /Users/nathantotz/opt/anaconda3/lib/python3.8/site-packages (from tensorflow) (1.34.1)\n",
      "Requirement already satisfied: gast==0.4.0 in /Users/nathantotz/opt/anaconda3/lib/python3.8/site-packages (from tensorflow) (0.4.0)\n",
      "Requirement already satisfied: tensorboard~=2.5 in /Users/nathantotz/opt/anaconda3/lib/python3.8/site-packages (from tensorflow) (2.5.0)\n",
      "Requirement already satisfied: tensorflow-estimator<2.6.0,>=2.5.0rc0 in /Users/nathantotz/opt/anaconda3/lib/python3.8/site-packages (from tensorflow) (2.5.0)\n",
      "Requirement already satisfied: setuptools>=41.0.0 in /Users/nathantotz/opt/anaconda3/lib/python3.8/site-packages (from tensorboard~=2.5->tensorflow) (50.3.1.post20201107)\n",
      "Requirement already satisfied: google-auth<2,>=1.6.3 in /Users/nathantotz/opt/anaconda3/lib/python3.8/site-packages (from tensorboard~=2.5->tensorflow) (1.34.0)\n",
      "Requirement already satisfied: requests<3,>=2.21.0 in /Users/nathantotz/opt/anaconda3/lib/python3.8/site-packages (from tensorboard~=2.5->tensorflow) (2.24.0)\n",
      "Requirement already satisfied: werkzeug>=0.11.15 in /Users/nathantotz/opt/anaconda3/lib/python3.8/site-packages (from tensorboard~=2.5->tensorflow) (1.0.1)\n",
      "Requirement already satisfied: tensorboard-data-server<0.7.0,>=0.6.0 in /Users/nathantotz/opt/anaconda3/lib/python3.8/site-packages (from tensorboard~=2.5->tensorflow) (0.6.1)\n",
      "Requirement already satisfied: google-auth-oauthlib<0.5,>=0.4.1 in /Users/nathantotz/opt/anaconda3/lib/python3.8/site-packages (from tensorboard~=2.5->tensorflow) (0.4.5)\n",
      "Requirement already satisfied: markdown>=2.6.8 in /Users/nathantotz/opt/anaconda3/lib/python3.8/site-packages (from tensorboard~=2.5->tensorflow) (3.3.4)\n",
      "Requirement already satisfied: tensorboard-plugin-wit>=1.6.0 in /Users/nathantotz/opt/anaconda3/lib/python3.8/site-packages (from tensorboard~=2.5->tensorflow) (1.8.0)\n",
      "Requirement already satisfied: pyasn1-modules>=0.2.1 in /Users/nathantotz/opt/anaconda3/lib/python3.8/site-packages (from google-auth<2,>=1.6.3->tensorboard~=2.5->tensorflow) (0.2.8)\n",
      "Requirement already satisfied: cachetools<5.0,>=2.0.0 in /Users/nathantotz/opt/anaconda3/lib/python3.8/site-packages (from google-auth<2,>=1.6.3->tensorboard~=2.5->tensorflow) (4.2.2)\n",
      "Requirement already satisfied: rsa<5,>=3.1.4; python_version >= \"3.6\" in /Users/nathantotz/opt/anaconda3/lib/python3.8/site-packages (from google-auth<2,>=1.6.3->tensorboard~=2.5->tensorflow) (4.7.2)\n",
      "Requirement already satisfied: urllib3!=1.25.0,!=1.25.1,<1.26,>=1.21.1 in /Users/nathantotz/opt/anaconda3/lib/python3.8/site-packages (from requests<3,>=2.21.0->tensorboard~=2.5->tensorflow) (1.25.11)\n",
      "Requirement already satisfied: chardet<4,>=3.0.2 in /Users/nathantotz/opt/anaconda3/lib/python3.8/site-packages (from requests<3,>=2.21.0->tensorboard~=2.5->tensorflow) (3.0.4)\n",
      "Requirement already satisfied: certifi>=2017.4.17 in /Users/nathantotz/opt/anaconda3/lib/python3.8/site-packages (from requests<3,>=2.21.0->tensorboard~=2.5->tensorflow) (2020.6.20)\n",
      "Requirement already satisfied: idna<3,>=2.5 in /Users/nathantotz/opt/anaconda3/lib/python3.8/site-packages (from requests<3,>=2.21.0->tensorboard~=2.5->tensorflow) (2.10)\n",
      "Requirement already satisfied: requests-oauthlib>=0.7.0 in /Users/nathantotz/opt/anaconda3/lib/python3.8/site-packages (from google-auth-oauthlib<0.5,>=0.4.1->tensorboard~=2.5->tensorflow) (1.3.0)\n",
      "Requirement already satisfied: pyasn1<0.5.0,>=0.4.6 in /Users/nathantotz/opt/anaconda3/lib/python3.8/site-packages (from pyasn1-modules>=0.2.1->google-auth<2,>=1.6.3->tensorboard~=2.5->tensorflow) (0.4.8)\n",
      "Requirement already satisfied: oauthlib>=3.0.0 in /Users/nathantotz/opt/anaconda3/lib/python3.8/site-packages (from requests-oauthlib>=0.7.0->google-auth-oauthlib<0.5,>=0.4.1->tensorboard~=2.5->tensorflow) (3.1.1)\n"
     ]
    }
   ],
   "source": [
    "!pip install awscli\n",
    "!pip install boto3\n",
    "!pip install netCDF4\n",
    "!pip install tensorflow\n",
    "\n",
    "import time\n",
    "import awscli\n",
    "\n",
    "import numpy as np\n",
    "import boto3\n",
    "\n",
    "import pandas as pd\n",
    "import matplotlib.pyplot as plt\n",
    "import matplotlib\n",
    "import seaborn as sns\n",
    "from datetime import datetime\n",
    "import time\n",
    "import subprocess\n",
    "import netCDF4 as nc\n",
    "import tarfile\n",
    "import os\n",
    "import gc\n",
    "\n",
    "import tensorflow as tf\n",
    "from tensorflow.keras import datasets, layers, models\n",
    "\n",
    "from sklearn.model_selection import train_test_split, StratifiedShuffleSplit\n",
    "from sklearn.dummy import DummyRegressor\n",
    "\n",
    "def bash_string(string):\n",
    "  return subprocess.run(string, shell = True, capture_output = True)"
   ]
  },
  {
   "cell_type": "code",
   "execution_count": 4,
   "metadata": {},
   "outputs": [],
   "source": [
    "def knots_to_ss(knots):\n",
    "\n",
    "  if knots == None:\n",
    "    return None\n",
    "  if knots == 0:\n",
    "    return \"MV\"\n",
    "  if knots <= 33:\n",
    "    return \"TD\"\n",
    "  if knots <= 63:\n",
    "    return \"TS\"\n",
    "  if knots <= 82:\n",
    "    return \"C1\"\n",
    "  if knots <= 95:\n",
    "    return \"C2\"\n",
    "  if knots <= 112:\n",
    "    return \"C3\"\n",
    "  # if knots <= 136:\n",
    "  #   return \"C4\"\n",
    "  if knots > 112:\n",
    "    return \"CM\"\n",
    "  else:\n",
    "    return None\n",
    "\n",
    "def est_windspeed(csv_name):\n",
    "\n",
    "    try:\n",
    "        return int(csv_name[-21 : -18])\n",
    "    except:\n",
    "        return None\n",
    "\n",
    "def est_ss(csv_name):\n",
    "\n",
    "  return knots_to_ss(est_windspeed(csv_name))\n",
    "\n",
    "def random_sample(list_, sample_size, replacement):\n",
    "\n",
    "  sample_list = []\n",
    "  for _ in range(sample_size):\n",
    "    rand_selection = np.random.choice(list_)\n",
    "    sample_list.append(rand_selection)\n",
    "    if replacement == False:\n",
    "      list_.remove(rand_selection)\n",
    "  return sample_list"
   ]
  },
  {
   "cell_type": "code",
   "execution_count": 5,
   "metadata": {},
   "outputs": [
    {
     "name": "stdout",
     "output_type": "stream",
     "text": [
      "7511\n"
     ]
    }
   ],
   "source": [
    "# files are taken from a local repository.  The file is a CSV with 301 rows and 302 columns.  \n",
    "# Columns 0 through 300 comprise the image file, and column 301 is filled with the windspeed.\n",
    "\n",
    "bucket_list = os.listdir('/Users/nathantotz/Desktop/Hurricane_Data')\n",
    "print(len(bucket_list))"
   ]
  },
  {
   "cell_type": "code",
   "execution_count": 6,
   "metadata": {},
   "outputs": [],
   "source": [
    "training_list = []\n",
    "testing_list = []\n",
    "\n",
    "category_list = ['TS', 'C1', 'C2', 'C3', 'CM']\n",
    "\n",
    "for category in category_list:\n",
    "\n",
    "  training_list += random_sample([csv_name for csv_name in bucket_list if (est_ss(csv_name) == category)], 32 * 42, replacement = False)\n",
    "  testing_list += random_sample([csv_name for csv_name in bucket_list if (est_ss(csv_name) == category)], 5 * 42, replacement = False)"
   ]
  },
  {
   "cell_type": "code",
   "execution_count": 7,
   "metadata": {},
   "outputs": [
    {
     "data": {
      "image/png": "[encoded data removed]",
      "text/plain": [
       "<Figure size 432x288 with 1 Axes>"
      ]
     },
     "metadata": {
      "needs_background": "light"
     },
     "output_type": "display_data"
    }
   ],
   "source": [
    "testing_wind = [est_windspeed(file_name) for file_name in testing_list]\n",
    "training_wind = [est_windspeed(file_name) for file_name in training_list]\n",
    "\n",
    "sns.histplot(training_wind, color = 'blue', bins = 20)\n",
    "sns.histplot(testing_wind, color = 'orange', bins = 20)\n",
    "plt.show()"
   ]
  },
  {
   "cell_type": "code",
   "execution_count": 8,
   "metadata": {},
   "outputs": [],
   "source": [
    "# there are 7770 total images\n",
    "# there are 6720 = 32 * 210 training images\n",
    "# there are 1050 = 5 * 210 testing images\n",
    "# so take batch_size = 210 for even division\n",
    "\n",
    "# normalization constsants for the windspeeds and image pixel brightness\n",
    "MAX_WIND = 180\n",
    "MAX_PIXEL = 350\n",
    "\n",
    "def fetch_batch(file_list, batch_size, num_of_batches):\n",
    "    \n",
    "    batch_number = 0\n",
    "    np.random.shuffle(file_list)\n",
    "    \n",
    "    while True:\n",
    "        \n",
    "        if batch_number == num_of_batches:\n",
    "            np.random.shuffle(file_list)\n",
    "            batch_number = 0\n",
    "        \n",
    "        wind_list = []\n",
    "        image_list = []\n",
    "        \n",
    "        for file_name in file_list[batch_number * batch_size : (batch_number + 1) * batch_size]:\n",
    "\n",
    "            df_temp = pd.read_csv('/Users/nathantotz/Desktop/Hurricane_Data/' + file_name,\n",
    "                                  index_col = 0)\n",
    "            image = df_temp.iloc[:, 0 : 301]\n",
    "            wind = df_temp.iloc[0, 301]\n",
    "            wind_list.append(wind)\n",
    "            image_list.append(image)\n",
    "\n",
    "        X = np.array(image_list)\n",
    "        X.resize(batch_size, 301, 301, 1)\n",
    "        y = np.array(wind_list)\n",
    "\n",
    "        yield (X / MAX_PIXEL, y / MAX_WIND)\n",
    "        \n",
    "        del(X, y, image_list, wind_list)\n",
    "        gc.collect()\n",
    "        batch_number += 1"
   ]
  },
  {
   "cell_type": "code",
   "execution_count": 9,
   "metadata": {},
   "outputs": [
    {
     "name": "stdout",
     "output_type": "stream",
     "text": [
      "Model: \"sequential\"\n",
      "_________________________________________________________________\n",
      "Layer (type)                 Output Shape              Param #   \n",
      "=================================================================\n",
      "conv2d (Conv2D)              (None, 299, 299, 32)      320       \n",
      "_________________________________________________________________\n",
      "max_pooling2d (MaxPooling2D) (None, 149, 149, 32)      0         \n",
      "_________________________________________________________________\n",
      "conv2d_1 (Conv2D)            (None, 147, 147, 64)      18496     \n",
      "_________________________________________________________________\n",
      "max_pooling2d_1 (MaxPooling2 (None, 73, 73, 64)        0         \n",
      "_________________________________________________________________\n",
      "conv2d_2 (Conv2D)            (None, 71, 71, 64)        36928     \n",
      "_________________________________________________________________\n",
      "max_pooling2d_2 (MaxPooling2 (None, 35, 35, 64)        0         \n",
      "_________________________________________________________________\n",
      "conv2d_3 (Conv2D)            (None, 33, 33, 64)        36928     \n",
      "_________________________________________________________________\n",
      "flatten (Flatten)            (None, 69696)             0         \n",
      "_________________________________________________________________\n",
      "dense (Dense)                (None, 64)                4460608   \n",
      "_________________________________________________________________\n",
      "dense_1 (Dense)              (None, 1)                 65        \n",
      "=================================================================\n",
      "Total params: 4,553,345\n",
      "Trainable params: 4,553,345\n",
      "Non-trainable params: 0\n",
      "_________________________________________________________________\n"
     ]
    },
    {
     "data": {
      "text/plain": [
       "None"
      ]
     },
     "metadata": {},
     "output_type": "display_data"
    }
   ],
   "source": [
    "model = models.Sequential()\n",
    "\n",
    "model.add(layers.Conv2D(32, \n",
    "                        (3, 3), \n",
    "                        activation = 'relu',\n",
    "                        input_shape = (301, 301, 1)))\n",
    "\n",
    "model.add(layers.MaxPooling2D((2, 2)))\n",
    "\n",
    "model.add(layers.Conv2D(64,\n",
    "                 (3, 3),\n",
    "                 activation = 'relu'))\n",
    "\n",
    "model.add(layers.MaxPooling2D((2, 2)))\n",
    "\n",
    "model.add(layers.Conv2D(64, \n",
    "                        (3, 3),\n",
    "                        activation = 'relu'))\n",
    "\n",
    "model.add(layers.MaxPooling2D((2, 2)))\n",
    "\n",
    "model.add(layers.Conv2D(64, \n",
    "                        (3, 3),\n",
    "                        activation = 'relu'))\n",
    "\n",
    "model.add(layers.Flatten())\n",
    "\n",
    "model.add(layers.Dense(64,\n",
    "                       activation = 'relu'))\n",
    "\n",
    "model.add(layers.Dense(1))\n",
    "\n",
    "display(model.summary())"
   ]
  },
  {
   "cell_type": "code",
   "execution_count": 14,
   "metadata": {},
   "outputs": [
    {
     "name": "stdout",
     "output_type": "stream",
     "text": [
      "Epoch 1/20\n",
      "32/32 [==============================] - 683s 21s/step - loss: 0.0082 - mse: 0.0082 - val_loss: 0.0091 - val_mse: 0.0091\n",
      "Epoch 2/20\n",
      "32/32 [==============================] - 680s 21s/step - loss: 0.0080 - mse: 0.0080 - val_loss: 0.0082 - val_mse: 0.0082\n",
      "Epoch 3/20\n",
      "32/32 [==============================] - 685s 21s/step - loss: 0.0078 - mse: 0.0078 - val_loss: 0.0086 - val_mse: 0.0086\n",
      "Epoch 4/20\n",
      "32/32 [==============================] - 688s 22s/step - loss: 0.0075 - mse: 0.0075 - val_loss: 0.0074 - val_mse: 0.0074\n",
      "Epoch 5/20\n",
      "32/32 [==============================] - 687s 22s/step - loss: 0.0072 - mse: 0.0072 - val_loss: 0.0077 - val_mse: 0.0077\n",
      "Epoch 6/20\n",
      "32/32 [==============================] - 688s 22s/step - loss: 0.0067 - mse: 0.0067 - val_loss: 0.0069 - val_mse: 0.0069\n",
      "Epoch 7/20\n",
      "32/32 [==============================] - 684s 21s/step - loss: 0.0063 - mse: 0.0063 - val_loss: 0.0068 - val_mse: 0.0068\n",
      "Epoch 8/20\n",
      "32/32 [==============================] - 690s 22s/step - loss: 0.0059 - mse: 0.0059 - val_loss: 0.0061 - val_mse: 0.0061\n",
      "Epoch 9/20\n",
      "32/32 [==============================] - 686s 21s/step - loss: 0.0056 - mse: 0.0056 - val_loss: 0.0059 - val_mse: 0.0059\n",
      "Epoch 10/20\n",
      "32/32 [==============================] - 688s 22s/step - loss: 0.0052 - mse: 0.0052 - val_loss: 0.0055 - val_mse: 0.0055\n",
      "Epoch 11/20\n",
      "32/32 [==============================] - 688s 22s/step - loss: 0.0048 - mse: 0.0048 - val_loss: 0.0053 - val_mse: 0.0053\n",
      "Epoch 12/20\n",
      "32/32 [==============================] - 683s 21s/step - loss: 0.0045 - mse: 0.0045 - val_loss: 0.0051 - val_mse: 0.0051\n",
      "Epoch 13/20\n",
      "32/32 [==============================] - 689s 22s/step - loss: 0.0041 - mse: 0.0041 - val_loss: 0.0044 - val_mse: 0.0044\n",
      "Epoch 14/20\n",
      "32/32 [==============================] - 690s 22s/step - loss: 0.0037 - mse: 0.0037 - val_loss: 0.0040 - val_mse: 0.0040\n",
      "Epoch 15/20\n",
      "32/32 [==============================] - 689s 22s/step - loss: 0.0033 - mse: 0.0033 - val_loss: 0.0038 - val_mse: 0.0038\n",
      "Epoch 16/20\n",
      "32/32 [==============================] - 685s 21s/step - loss: 0.0030 - mse: 0.0030 - val_loss: 0.0035 - val_mse: 0.0035\n",
      "Epoch 17/20\n",
      "32/32 [==============================] - 682s 21s/step - loss: 0.0027 - mse: 0.0027 - val_loss: 0.0034 - val_mse: 0.0034\n",
      "Epoch 18/20\n",
      "32/32 [==============================] - 690s 22s/step - loss: 0.0024 - mse: 0.0024 - val_loss: 0.0029 - val_mse: 0.0029\n",
      "Epoch 19/20\n",
      "32/32 [==============================] - 684s 21s/step - loss: 0.0022 - mse: 0.0022 - val_loss: 0.0030 - val_mse: 0.0030\n",
      "Epoch 20/20\n",
      "32/32 [==============================] - 685s 21s/step - loss: 0.0019 - mse: 0.0019 - val_loss: 0.0031 - val_mse: 0.0031\n"
     ]
    }
   ],
   "source": [
    "train_generator = fetch_batch(training_list, 210, 32)\n",
    "test_generator = fetch_batch(testing_list, 210, 5)\n",
    "\n",
    "sgd_optimizer = tf.keras.optimizers.SGD(learning_rate = 0.018,\n",
    "                                        momentum = 0.99,\n",
    "                                        nesterov = True)\n",
    "\n",
    "model.compile(optimizer = sgd_optimizer,\n",
    "              loss = tf.keras.losses.MeanSquaredError(),\n",
    "              metrics = ['mse'])\n",
    "\n",
    "history = model.fit_generator(generator = train_generator,\n",
    "                              steps_per_epoch = 32,\n",
    "                              epochs = 20,\n",
    "                              validation_data = test_generator,\n",
    "                              validation_steps = 3)"
   ]
  },
  {
   "cell_type": "code",
   "execution_count": 15,
   "metadata": {},
   "outputs": [
    {
     "data": {
      "image/png": "[encoded data removed]",
      "text/plain": [
       "<Figure size 432x288 with 1 Axes>"
      ]
     },
     "metadata": {
      "needs_background": "light"
     },
     "output_type": "display_data"
    }
   ],
   "source": [
    "plt.plot(history.history['mse'], label='mse')\n",
    "plt.plot(history.history['val_mse'], label = 'val_mse')\n",
    "plt.xlabel('Epoch')\n",
    "plt.ylabel('MSE')\n",
    "plt.ylim([0, 0.0100])\n",
    "plt.legend(loc='upper right')\n",
    "plt.show()"
   ]
  },
  {
   "cell_type": "code",
   "execution_count": 17,
   "metadata": {},
   "outputs": [],
   "source": [
    "model.save('hurricane_imagery_model.h5')"
   ]
  },
  {
   "cell_type": "code",
   "execution_count": 26,
   "metadata": {},
   "outputs": [],
   "source": [
    "reloaded_model = tf.keras.models.load_model('/Users/nathantotz/Desktop/Hurricane_Imagery_Models/hurricane_imagery_model.h5')"
   ]
  },
  {
   "cell_type": "code",
   "execution_count": 31,
   "metadata": {},
   "outputs": [],
   "source": [
    "df = pd.read_csv('/Users/nathantotz/Desktop/Hurricane_Imagery_Models/irma_image.csv', index_col = 0)\n",
    "image = np.array(df)\n",
    "image.resize(1, 301, 301, 1)\n",
    "image /= 350"
   ]
  },
  {
   "cell_type": "code",
   "execution_count": 33,
   "metadata": {},
   "outputs": [
    {
     "data": {
      "text/plain": [
       "74.36967372894287"
      ]
     },
     "execution_count": 33,
     "metadata": {},
     "output_type": "execute_result"
    }
   ],
   "source": [
    "reloaded_model.predict(image)[0][0] * 180"
   ]
  },
  {
   "cell_type": "code",
   "execution_count": null,
   "metadata": {},
   "outputs": [],
   "source": []
  }
 ],
 "metadata": {
  "kernelspec": {
   "display_name": "Python 3",
   "language": "python",
   "name": "python3"
  },
  "language_info": {
   "codemirror_mode": {
    "name": "ipython",
    "version": 3
   },
   "file_extension": ".py",
   "mimetype": "text/x-python",
   "name": "python",
   "nbconvert_exporter": "python",
   "pygments_lexer": "ipython3",
   "version": "3.8.5"
  }
 },
 "nbformat": 4,
 "nbformat_minor": 4
}
